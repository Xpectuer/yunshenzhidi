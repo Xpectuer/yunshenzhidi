{
 "cells": [
  {
   "cell_type": "code",
   "execution_count": 11,
   "metadata": {},
   "outputs": [
    {
     "name": "stdout",
     "output_type": "stream",
     "text": [
      "\n",
      "\n",
      "0: 640x640 (no detections), 32.7ms\n",
      "1: 640x640 (no detections), 32.7ms\n",
      "0: 640x640 (no detections), 32.7ms\n",
      "1: 640x640 (no detections), 32.7ms\n",
      "Speed: 2.5ms preprocess, 32.7ms inference, 0.3ms postprocess per image at shape (1, 3, 640, 640)\n",
      "Speed: 2.5ms preprocess, 32.7ms inference, 0.3ms postprocess per image at shape (1, 3, 640, 640)\n"
     ]
    }
   ],
   "source": [
    "from ultralytics import YOLO\n",
    "\n",
    "# Load a model\n",
    "model = YOLO('runs/detect/train2/weights/best.pt')  # pretrained YOLOv8n model\n",
    "\n",
    "# Run batched inference on a list of images\n",
    "results = model(['../imgs/card_0.png', '../imgs/card_18.png'])  # return a list of Results objects\n",
    "\n",
    "# Process results list\n",
    "for i, result in enumerate(results):\n",
    "    boxes = result.boxes  # Boxes object for bounding box outputs\n",
    "    masks = result.masks  # Masks object for segmentation masks outputs\n",
    "    keypoints = result.keypoints  # Keypoints object for pose outputs\n",
    "    probs = result.probs  # Probs object for classification outputs\n",
    "    result.save(filename=f'result_{i}.jpg')  # save to disk"
   ]
  },
  {
   "cell_type": "code",
   "execution_count": 12,
   "metadata": {},
   "outputs": [],
   "source": [
    "\n",
    "import cv2\n",
    "import numpy as np\n",
    "\n",
    "def find_arrow_direction(image_path):\n",
    "    # Load the image\n",
    "    img = cv2.imread(image_path)\n",
    "    gray = cv2.cvtColor(img, cv2.COLOR_BGR2GRAY)\n",
    "    _, thresh = cv2.threshold(gray, 127, 255, cv2.THRESH_BINARY_INV)\n",
    "\n",
    "    # Find contours\n",
    "    contours, _ = cv2.findContours(thresh, cv2.RETR_TREE, cv2.CHAIN_APPROX_SIMPLE)\n",
    "\n",
    "    # Assume the largest contour is the arrow.\n",
    "    contours = sorted(contours, key=cv2.contourArea, reverse=True)\n",
    "    if contours:\n",
    "        cnt = contours[0]\n",
    "\n",
    "        # Approximate the contour to reduce the number of vertices\n",
    "        epsilon = 0.01 * cv2.arcLength(cnt, True)\n",
    "        approx = cv2.approxPolyDP(cnt, epsilon, True)\n",
    "\n",
    "        # Find the bounding box and its center\n",
    "        rect = cv2.minAreaRect(approx)\n",
    "        box = cv2.boxPoints(rect)\n",
    "        box = np.int0(box)\n",
    "        center = np.mean(box, axis=0)\n",
    "\n",
    "        # Find the tip of the arrow by identifying the vertex farthest from the center\n",
    "        tip = max(approx, key=lambda x: np.linalg.norm(x-center))\n",
    "\n",
    "        # Determine direction based on the tip's position relative to the center\n",
    "        dx = tip[0][0] - center[0]\n",
    "        dy = tip[0][1] - center[1]\n",
    "\n",
    "        if abs(dx) > abs(dy):  # Horizontal arrow\n",
    "            direction = \"left\" if dx < 0 else \"right\"\n",
    "        else:  # Vertical arrow\n",
    "            direction = \"up\" if dy < 0 else \"down\"\n",
    "\n",
    "        return direction\n",
    "    else:\n",
    "        return \"No arrow found\"\n",
    "\n"
   ]
  },
  {
   "cell_type": "code",
   "execution_count": 13,
   "metadata": {},
   "outputs": [
    {
     "name": "stdout",
     "output_type": "stream",
     "text": [
      "Arrow direction: up\n"
     ]
    },
    {
     "name": "stderr",
     "output_type": "stream",
     "text": [
      "/tmp/ipykernel_2946281/2413554232.py:25: DeprecationWarning: `np.int0` is a deprecated alias for `np.intp`.  (Deprecated NumPy 1.24)\n",
      "  box = np.int0(box)\n"
     ]
    }
   ],
   "source": [
    "image_path = \"../imgs/card_18.png\"\n",
    "direction = find_arrow_direction(image_path)\n",
    "print(f\"Arrow direction: {direction}\")"
   ]
  },
  {
   "cell_type": "code",
   "execution_count": 14,
   "metadata": {},
   "outputs": [
    {
     "name": "stdout",
     "output_type": "stream",
     "text": [
      "Arrow direction: down\n"
     ]
    },
    {
     "name": "stderr",
     "output_type": "stream",
     "text": [
      "/tmp/ipykernel_2946281/2413554232.py:25: DeprecationWarning: `np.int0` is a deprecated alias for `np.intp`.  (Deprecated NumPy 1.24)\n",
      "  box = np.int0(box)\n"
     ]
    }
   ],
   "source": [
    "image_path = \"../imgs/card_14.png\"\n",
    "direction = find_arrow_direction(image_path)\n",
    "print(f\"Arrow direction: {direction}\")"
   ]
  },
  {
   "cell_type": "code",
   "execution_count": 15,
   "metadata": {},
   "outputs": [
    {
     "name": "stdout",
     "output_type": "stream",
     "text": [
      "Arrow direction: left\n"
     ]
    },
    {
     "name": "stderr",
     "output_type": "stream",
     "text": [
      "/tmp/ipykernel_2946281/2413554232.py:25: DeprecationWarning: `np.int0` is a deprecated alias for `np.intp`.  (Deprecated NumPy 1.24)\n",
      "  box = np.int0(box)\n"
     ]
    }
   ],
   "source": [
    "image_path = \"../imgs/card_13.png\"\n",
    "direction = find_arrow_direction(image_path)\n",
    "print(f\"Arrow direction: {direction}\")"
   ]
  },
  {
   "cell_type": "code",
   "execution_count": 16,
   "metadata": {},
   "outputs": [
    {
     "data": {
      "text/plain": [
       "array([[[  0, 255,   0],\n",
       "        [  0, 255,   0],\n",
       "        [  0, 255,   0],\n",
       "        ...,\n",
       "        [  0, 255,   0],\n",
       "        [  0, 255,   0],\n",
       "        [  0, 255,   0]],\n",
       "\n",
       "       [[  0, 255,   0],\n",
       "        [  0, 255,   0],\n",
       "        [  0, 255,   0],\n",
       "        ...,\n",
       "        [  0, 255,   0],\n",
       "        [  0, 255,   0],\n",
       "        [  0, 255,   0]],\n",
       "\n",
       "       [[  0, 255,   0],\n",
       "        [  0, 255,   0],\n",
       "        [  0, 255,   0],\n",
       "        ...,\n",
       "        [  0, 255,   0],\n",
       "        [  0, 255,   0],\n",
       "        [  0, 255,   0]],\n",
       "\n",
       "       ...,\n",
       "\n",
       "       [[  0,   0,   0],\n",
       "        [  0,   0,   0],\n",
       "        [  0, 255,   0],\n",
       "        ...,\n",
       "        [  0, 255,   0],\n",
       "        [  0,   0,   0],\n",
       "        [  0,   0,   0]],\n",
       "\n",
       "       [[  0,   0,   0],\n",
       "        [  0,   0,   0],\n",
       "        [  0,   0,   0],\n",
       "        ...,\n",
       "        [  0,   0,   0],\n",
       "        [  0,   0,   0],\n",
       "        [  0,   0,   0]],\n",
       "\n",
       "       [[  0,   0,   0],\n",
       "        [  0,   0,   0],\n",
       "        [  0,   0,   0],\n",
       "        ...,\n",
       "        [  0,   0,   0],\n",
       "        [  0,   0,   0],\n",
       "        [  0,   0,   0]]], dtype=uint8)"
      ]
     },
     "execution_count": 16,
     "metadata": {},
     "output_type": "execute_result"
    }
   ],
   "source": [
    "import cv2\n",
    "import numpy as np\n",
    "\n",
    "def recognize_rectangles(image_path):\n",
    "    # Load the image\n",
    "    img = cv2.imread(image_path)\n",
    "    gray = cv2.cvtColor(img, cv2.COLOR_BGR2GRAY)\n",
    "    _, thresh = cv2.threshold(gray, 127, 255, cv2.THRESH_BINARY)\n",
    "\n",
    "    # Find contours\n",
    "    contours, _ = cv2.findContours(thresh, cv2.RETR_TREE, cv2.CHAIN_APPROX_SIMPLE)\n",
    "\n",
    "    rectangles = []\n",
    "    for cnt in contours:\n",
    "        # Approximate the contour\n",
    "        epsilon = 0.05 * cv2.arcLength(cnt, True)\n",
    "        approx = cv2.approxPolyDP(cnt, epsilon, True)\n",
    "\n",
    "        # Check if the approximated contour has 4 vertices (possible rectangle)\n",
    "        if len(approx) == 4:\n",
    "            # Optional: Check aspect ratio to filter out non-rectangular shapes\n",
    "            # rect = cv2.minAreaRect(cnt)\n",
    "            # width, height = rect[1]\n",
    "            # if 0.8 < width/height < 1.25:\n",
    "            rectangles.append(cnt)\n",
    "\n",
    "    # Draw detected rectangles on the original image\n",
    "    cv2.drawContours(img, rectangles, -1, (0, 255, 0), 3)\n",
    "\n",
    "    return img\n",
    "    # Show the output\n",
    "    #cv2.imshow('Detected Rectangles', img)\n",
    "    # cv2.waitKey(0)\n",
    "    # cv2.destroyAllWindows()\n",
    "\n",
    "# Example usage\n",
    "image_path = '../imgs/card_14.png'\n",
    "recognize_rectangles(image_path)"
   ]
  }
 ],
 "metadata": {
  "kernelspec": {
   "display_name": "base",
   "language": "python",
   "name": "python3"
  },
  "language_info": {
   "codemirror_mode": {
    "name": "ipython",
    "version": 3
   },
   "file_extension": ".py",
   "mimetype": "text/x-python",
   "name": "python",
   "nbconvert_exporter": "python",
   "pygments_lexer": "ipython3",
   "version": "3.11.3"
  }
 },
 "nbformat": 4,
 "nbformat_minor": 2
}
