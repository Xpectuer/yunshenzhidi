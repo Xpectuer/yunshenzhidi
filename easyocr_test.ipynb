{
 "cells": [
  {
   "cell_type": "code",
   "execution_count": 2,
   "metadata": {},
   "outputs": [
    {
     "data": {
      "text/plain": [
       "[([[51, 5], [119, 5], [119, 45], [51, 45]], '极鼢', 0.003570363133850585)]"
      ]
     },
     "execution_count": 2,
     "metadata": {},
     "output_type": "execute_result"
    }
   ],
   "source": [
    "import easyocr\n",
    "\n",
    "reader = easyocr.Reader(['ch_sim'])\n",
    "\n",
    "\n",
    "result = reader.readtext('imgs/card_0.png')\n",
    "\n",
    "result"
   ]
  },
  {
   "cell_type": "code",
   "execution_count": 4,
   "metadata": {},
   "outputs": [
    {
     "name": "stdout",
     "output_type": "stream",
     "text": [
      "Processing card_14.png\n",
      "Processing card_15.png\n"
     ]
    },
    {
     "name": "stderr",
     "output_type": "stream",
     "text": [
      "libpng warning: iCCP: known incorrect sRGB profile\n"
     ]
    },
    {
     "name": "stdout",
     "output_type": "stream",
     "text": [
      "Processing card_17.png\n",
      "Processing card_16.png\n",
      "Processing card_12.png\n",
      "Processing card_13.png\n",
      "Processing card_11.png\n",
      "Processing card_10.png\n",
      "Processing card_9.png\n"
     ]
    },
    {
     "name": "stderr",
     "output_type": "stream",
     "text": [
      "libpng warning: iCCP: known incorrect sRGB profile\n"
     ]
    },
    {
     "name": "stdout",
     "output_type": "stream",
     "text": [
      "Processing card_8.png\n",
      "Processing card_3.png\n",
      "Processing card_2.png\n"
     ]
    },
    {
     "name": "stderr",
     "output_type": "stream",
     "text": [
      "libpng warning: iCCP: known incorrect sRGB profile\n"
     ]
    },
    {
     "name": "stdout",
     "output_type": "stream",
     "text": [
      "Processing card_0.png\n",
      "Processing card_1.png\n",
      "Processing card_5.png\n"
     ]
    },
    {
     "name": "stderr",
     "output_type": "stream",
     "text": [
      "libpng warning: iCCP: known incorrect sRGB profile\n"
     ]
    },
    {
     "name": "stdout",
     "output_type": "stream",
     "text": [
      "Processing card_4.png\n",
      "Processing card_6.png\n",
      "Processing card_7.png\n",
      "Processing card_20.png\n",
      "Processing card_18.png\n",
      "Processing card_19.png\n"
     ]
    },
    {
     "data": {
      "text/plain": [
       "[[([[49, 9], [117, 9], [117, 49], [49, 49]], '极鼢', 0.001957939167558193)],\n",
       " [([[183, 57], [444, 57], [444, 214], [183, 214]], '极鼢', 0.003604802447763484),\n",
       "  ([[526, 916], [582, 916], [582, 1000], [526, 1000]],\n",
       "   '1',\n",
       "   0.8459553669420075)],\n",
       " [([[53, 13], [121, 13], [121, 55], [53, 55]], '树鼢', 0.0036398016477960237)],\n",
       " [([[47, 13], [115, 13], [115, 55], [47, 55]], '树鼢', 0.0036398016477960237),\n",
       "  ([[3, 111], [51, 111], [51, 155], [3, 155]], '鼢', 0.00035715147668772054)],\n",
       " [([[57, 33], [123, 33], [123, 71], [57, 71]], '隐鼢', 0.003587709684502164),\n",
       "  ([[83, 105], [101, 105], [101, 129], [83, 129]], '2', 0.46568257736305546),\n",
       "  ([[29, 146], [156, 146], [156, 182], [29, 182]],\n",
       "   '位于西北角',\n",
       "   0.9590416096423078)],\n",
       " [([[49, 5], [117, 5], [117, 45], [49, 45]], '极鼢', 0.0035754490242209396)],\n",
       " [([[53, 9], [119, 9], [119, 49], [53, 49]], '鼢鼢', 1.953285465175511e-08)],\n",
       " [([[49, 29], [117, 29], [117, 69], [49, 69]], '隐鼢', 0.0035867030629528488),\n",
       "  ([[113, 141], [131, 141], [131, 165], [113, 165]], '2', 0.9998380011369399)],\n",
       " [([[183, 159], [454, 159], [454, 316], [183, 316]], '树灵', 0.4333487252434503),\n",
       "  ([[517, 899], [601, 899], [601, 1011], [517, 1011]],\n",
       "   '2',\n",
       "   0.3409187166528369)],\n",
       " [([[51, 9], [117, 9], [117, 49], [51, 49]], '鼢鼢', 1.9570404602637144e-08)],\n",
       " [([[51, 13], [119, 13], [119, 55], [51, 55]], '树鼢', 0.0036398016477960237)],\n",
       " [([[188, 166], [452, 166], [452, 312], [188, 312]],\n",
       "   '鼢鼢',\n",
       "   3.5994227581491137e-09),\n",
       "  ([[519, 905], [607, 905], [607, 1005], [519, 1005]],\n",
       "   '鼢',\n",
       "   0.00035715147668772054)],\n",
       " [([[51, 5], [119, 5], [119, 45], [51, 45]], '极鼢', 0.003570363133850585)],\n",
       " [([[53, 9], [119, 9], [119, 49], [53, 49]], '鼢鼢', 1.9570404602637144e-08)],\n",
       " [([[190, 178], [448, 178], [448, 330], [190, 330]],\n",
       "   '隐鼢',\n",
       "   6.790877171618067e-07),\n",
       "  ([[523, 913], [583, 913], [583, 1001], [523, 1001]],\n",
       "   '鼢',\n",
       "   0.00035715147668772054)],\n",
       " [([[53, 31], [121, 31], [121, 71], [53, 71]], '隐鼢', 0.0035867030629528488),\n",
       "  ([[37, 97], [55, 97], [55, 121], [37, 121]], '2', 0.9998380011369399),\n",
       "  ([[113, 97], [133, 97], [133, 121], [113, 121]], '3', 0.9999442108306198)],\n",
       " [([[53, 9], [119, 9], [119, 49], [53, 49]], '鼢鼢', 1.9570404602637144e-08)],\n",
       " [([[51, 31], [119, 31], [119, 71], [51, 71]], '隐鼢', 0.003627989955432352),\n",
       "  ([[133, 113], [151, 113], [151, 135], [133, 135]], '4', 0.9999921322023653)],\n",
       " [([[51, 15], [119, 15], [119, 55], [51, 55]], '树灵', 0.8699884231009213)],\n",
       " [([[49, 5], [117, 5], [117, 45], [49, 45]], '极鼢', 0.0035754490242209396)],\n",
       " [([[53, 31], [119, 31], [119, 71], [53, 71]], '隐鼢', 0.003598341472976345),\n",
       "  ([[85, 93], [105, 93], [105, 119], [85, 119]], '3', 0.9999028467888174)]]"
      ]
     },
     "execution_count": 4,
     "metadata": {},
     "output_type": "execute_result"
    }
   ],
   "source": [
    "import os \n",
    "def process_directory(reader, directory):\n",
    "    \"\"\"\n",
    "    This function will process all PNG files in the specified directory\n",
    "    \"\"\"\n",
    "    results  = []\n",
    "    for filename in os.listdir(directory):\n",
    "        if filename.endswith(\".png\"):\n",
    "            print(f\"Processing {filename}\")\n",
    "            path = os.path.join(directory, filename)\n",
    "            result = reader.readtext(path)\n",
    "            results.append(result)\n",
    "    return results\n",
    "\n",
    "process_directory(reader, 'imgs/')"
   ]
  }
 ],
 "metadata": {
  "kernelspec": {
   "display_name": "base",
   "language": "python",
   "name": "python3"
  },
  "language_info": {
   "codemirror_mode": {
    "name": "ipython",
    "version": 3
   },
   "file_extension": ".py",
   "mimetype": "text/x-python",
   "name": "python",
   "nbconvert_exporter": "python",
   "pygments_lexer": "ipython3",
   "version": "3.9.13"
  }
 },
 "nbformat": 4,
 "nbformat_minor": 2
}
