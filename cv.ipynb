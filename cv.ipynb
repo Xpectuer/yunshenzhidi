{
 "cells": [
  {
   "cell_type": "code",
   "execution_count": 39,
   "metadata": {},
   "outputs": [],
   "source": [
    "import cv2\n",
    "import numpy as np\n",
    "from PIL import Image\n",
    "\n",
    "\n",
    "import pytesseract\n",
    "import os \n",
    "\n",
    "\n",
    "def showImg(mat):\n",
    "    rgbMAT = cv2.cvtColor(mat, cv2.COLOR_BGR2RGB)\n",
    "\n",
    "    return Image.fromarray(rgbMAT)\n",
    "\n",
    "def showMultipleImg(mats):\n",
    "    from matplotlib import pyplot as plt\n",
    "    def inner(x):\n",
    "        x1 = cv2.cvtColor(x, cv2.COLOR_BGR2RGB)\n",
    "        return Image.fromarray(x1) \n",
    "    \n",
    "    l = list(map(inner, mats))\n",
    "    for p in l:\n",
    "        plt.figure()\n",
    "        plt.imshow(p)\n",
    "    \n",
    "    \n",
    "    "
   ]
  },
  {
   "cell_type": "code",
   "execution_count": 40,
   "metadata": {},
   "outputs": [],
   "source": [
    "def  get_text_bottom_line(img):\n",
    "    # todo\n",
    "    return 1\n",
    "\n",
    "def preprocess(img):\n",
    "    width, height = img.size\n",
    "    new_height = int(height * get_text_bottom_line(img))  # Cut image height by 30%\n",
    "    \n",
    "    new_top = 0\n",
    "    \n",
    "    \n",
    "    img = img.crop((0, new_top, width, new_height))\n",
    "    \n",
    "    # img.show()\n",
    "    \n",
    "    return img\n",
    "    \n",
    "\n",
    "\n",
    "def ocr_core(filename):\n",
    "    \"\"\"\n",
    "    This function will handle the core OCR processing of images.\n",
    "    \"\"\"\n",
    "    img = Image.open(filename)\n",
    "    imgp = preprocess(img)\n",
    "    text = pytesseract.image_to_string(imgp, lang='chi_sim')  # We'll use Pillow's Image class to open the image and pytesseract to detect the string in the image\n",
    "    return text\n",
    "    \n",
    "def process_directory(directory):\n",
    "    \"\"\"\n",
    "    This function will process all PNG files in the specified directory\n",
    "    \"\"\"\n",
    "    for filename in os.listdir(directory):\n",
    "        if filename.endswith(\".png\"):\n",
    "            print(f\"Processing {filename}\")\n",
    "            print(ocr_core(os.path.join(directory, filename)))\n",
    "            exit(1)"
   ]
  },
  {
   "cell_type": "code",
   "execution_count": 41,
   "metadata": {},
   "outputs": [],
   "source": [
    "# process_directory('./imgs/')  # replace with your directory"
   ]
  },
  {
   "cell_type": "code",
   "execution_count": 42,
   "metadata": {},
   "outputs": [
    {
     "data": {
      "image/png": "[encoded data removed]",
      "text/plain": [
       "<PIL.Image.Image image mode=RGB size=169x227>"
      ]
     },
     "execution_count": 42,
     "metadata": {},
     "output_type": "execute_result"
    }
   ],
   "source": [
    "# cv recog coloured blocks\n",
    "target_color = ['blue', 'pink', 'grey','text']\n",
    "# 调色盘\n",
    "color_dist = {'red': {'Lower': np.array([0, 60, 60]), 'Upper': np.array([6, 255, 255])},\n",
    "              'blue': {'Lower': np.array([200, 0, 0]), 'Upper': np.array([255, 100, 100])},\n",
    "              'pink': {'Lower': np.array([248, 150, 250]), 'Upper': np.array([251, 155, 255])},\n",
    "              'grey': {'Lower': np.array([150, 150, 150]), 'Upper': np.array([155, 155, 155])},\n",
    "              'text': {'Lower': np.array([252, 252, 252]), 'Upper': np.array([255,255,255])},\n",
    "              }\n",
    "\n",
    "img = cv2.imread('imgs/card_0.png')\n",
    "showImg(img)"
   ]
  },
  {
   "cell_type": "code",
   "execution_count": 43,
   "metadata": {},
   "outputs": [
    {
     "data": {
      "image/png": "[encoded data removed]",
      "text/plain": [
       "<PIL.Image.Image image mode=RGB size=169x227>"
      ]
     },
     "execution_count": 43,
     "metadata": {},
     "output_type": "execute_result"
    }
   ],
   "source": [
    "# 高斯模糊\n",
    "# afterGsB = cv2.GaussianBlur(img, (5, 5), 0)\n",
    "afterGsB = img\n",
    "showImg(afterGsB)"
   ]
  },
  {
   "cell_type": "code",
   "execution_count": 44,
   "metadata": {},
   "outputs": [
    {
     "data": {
      "image/png": "[encoded data removed]",
      "text/plain": [
       "<PIL.Image.Image image mode=RGB size=169x227>"
      ]
     },
     "execution_count": 44,
     "metadata": {},
     "output_type": "execute_result"
    }
   ],
   "source": [
    "gray = cv2.cvtColor(afterGsB, cv2.COLOR_BGR2GRAY)\n",
    "showImg(gray)\n"
   ]
  },
  {
   "cell_type": "code",
   "execution_count": 45,
   "metadata": {},
   "outputs": [
    {
     "data": {
      "image/png": "[encoded data removed]",
      "text/plain": [
       "<PIL.Image.Image image mode=RGB size=169x227>"
      ]
     },
     "execution_count": 45,
     "metadata": {},
     "output_type": "execute_result"
    }
   ],
   "source": [
    "_, thresh = cv2.threshold(gray, 50, 255, cv2.THRESH_BINARY_INV)\n",
    "showImg(thresh)"
   ]
  },
  {
   "cell_type": "code",
   "execution_count": 46,
   "metadata": {},
   "outputs": [
    {
     "data": {
      "image/png": "[encoded data removed]",
      "text/plain": [
       "<PIL.Image.Image image mode=RGB size=169x227>"
      ]
     },
     "execution_count": 46,
     "metadata": {},
     "output_type": "execute_result"
    }
   ],
   "source": [
    "kernel = cv2.getStructuringElement(cv2.MORPH_RECT, (6, 6))\n",
    "dilate = cv2.dilate(thresh, kernel, iterations=2)\n",
    "erode = cv2.erode(dilate, kernel, iterations=1)\n",
    "\n",
    "showImg(erode)"
   ]
  },
  {
   "cell_type": "code",
   "execution_count": 47,
   "metadata": {},
   "outputs": [
    {
     "data": {
      "image/png": "[encoded data removed]",
      "text/plain": [
       "<Figure size 640x480 with 1 Axes>"
      ]
     },
     "metadata": {},
     "output_type": "display_data"
    },
    {
     "data": {
      "image/png": "[encoded data removed]",
      "text/plain": [
       "<Figure size 640x480 with 1 Axes>"
      ]
     },
     "metadata": {},
     "output_type": "display_data"
    },
    {
     "data": {
      "image/png": "[encoded data removed]",
      "text/plain": [
       "<Figure size 640x480 with 1 Axes>"
      ]
     },
     "metadata": {},
     "output_type": "display_data"
    }
   ],
   "source": [
    "contours, _ = cv2.findContours(erode, cv2.RETR_EXTERNAL, cv2.CHAIN_APPROX_SIMPLE)\n",
    "rois = []\n",
    "for cont in contours:\n",
    "    x, y, w, h = cv2.boundingRect(cont)\n",
    "    # region of interest\n",
    "    roi = gray[y:y+h, x: x+w]\n",
    "    rois.append(roi)\n",
    "    \n",
    "\n",
    "# showImg(rois[1])\n",
    "showMultipleImg(rois)"
   ]
  },
  {
   "cell_type": "code",
   "execution_count": 48,
   "metadata": {},
   "outputs": [
    {
     "name": "stdout",
     "output_type": "stream",
     "text": [
      "\f\n",
      "\f\n",
      "\f\n"
     ]
    }
   ],
   "source": [
    "for roi in rois:\n",
    "    text = pytesseract.image_to_string(roi, lang='chi_sim')\n",
    "    print(text)\n"
   ]
  },
  {
   "cell_type": "code",
   "execution_count": null,
   "metadata": {},
   "outputs": [],
   "source": []
  },
  {
   "cell_type": "code",
   "execution_count": 49,
   "metadata": {},
   "outputs": [],
   "source": [
    "# 色调（H），饱和度（S），明度（V）\n",
    "# afterHSV = cv2.cvtColor(afterGsB, cv2.COLOR_BGR2HSV)\n",
    "# showImg(afterHSV)\n"
   ]
  },
  {
   "cell_type": "code",
   "execution_count": 50,
   "metadata": {},
   "outputs": [],
   "source": [
    "# 粗线条的变细\n",
    "# afterErode = cv2.erode(afterHSV, None, iterations = 2)\n",
    "# showImg(afterErode)"
   ]
  },
  {
   "cell_type": "code",
   "execution_count": 51,
   "metadata": {},
   "outputs": [
    {
     "data": {
      "image/png": "[encoded data removed]",
      "text/plain": [
       "<PIL.Image.Image image mode=RGB size=169x227>"
      ]
     },
     "execution_count": 51,
     "metadata": {},
     "output_type": "execute_result"
    }
   ],
   "source": [
    "mask = cv2.inRange(afterGsB, color_dist[target_color[0]]['Lower'], color_dist[target_color[0]]['Upper'])\n",
    "showImg(mask)"
   ]
  },
  {
   "cell_type": "code",
   "execution_count": 52,
   "metadata": {},
   "outputs": [
    {
     "data": {
      "image/png": "[encoded data removed]",
      "text/plain": [
       "<PIL.Image.Image image mode=RGB size=169x227>"
      ]
     },
     "execution_count": 52,
     "metadata": {},
     "output_type": "execute_result"
    }
   ],
   "source": [
    "mask = cv2.inRange(afterGsB, color_dist[target_color[1]]['Lower'], color_dist[target_color[1]]['Upper'])\n",
    "showImg(mask)"
   ]
  },
  {
   "cell_type": "code",
   "execution_count": 53,
   "metadata": {},
   "outputs": [
    {
     "data": {
      "image/png": "[encoded data removed]",
      "text/plain": [
       "<PIL.Image.Image image mode=RGB size=169x227>"
      ]
     },
     "execution_count": 53,
     "metadata": {},
     "output_type": "execute_result"
    }
   ],
   "source": [
    "mask = cv2.inRange(afterGsB, color_dist[target_color[2]]['Lower'], color_dist[target_color[2]]['Upper'])\n",
    "showImg(mask)"
   ]
  },
  {
   "cell_type": "code",
   "execution_count": 54,
   "metadata": {},
   "outputs": [
    {
     "data": {
      "image/png": "[encoded data removed]",
      "text/plain": [
       "<PIL.Image.Image image mode=RGB size=169x227>"
      ]
     },
     "execution_count": 54,
     "metadata": {},
     "output_type": "execute_result"
    }
   ],
   "source": [
    "# 粗线条的变细\n",
    "afterErode = cv2.erode(afterGsB, None, iterations = 4)\n",
    "showImg(afterErode)"
   ]
  },
  {
   "cell_type": "code",
   "execution_count": 55,
   "metadata": {},
   "outputs": [
    {
     "data": {
      "image/png": "[encoded data removed]",
      "text/plain": [
       "<PIL.Image.Image image mode=RGB size=169x227>"
      ]
     },
     "execution_count": 55,
     "metadata": {},
     "output_type": "execute_result"
    }
   ],
   "source": [
    "mask = cv2.inRange(afterErode, color_dist[target_color[3]]['Lower'], color_dist[target_color[3]]['Upper'])\n",
    "showImg(mask)"
   ]
  },
  {
   "cell_type": "code",
   "execution_count": 56,
   "metadata": {},
   "outputs": [
    {
     "data": {
      "image/png": "[encoded data removed]",
      "text/plain": [
       "<PIL.Image.Image image mode=RGB size=169x227>"
      ]
     },
     "execution_count": 56,
     "metadata": {},
     "output_type": "execute_result"
    }
   ],
   "source": [
    "# 粗线条的变细\n",
    "afterErode = cv2.erode(mask, None, iterations = 1)\n",
    "showImg(afterErode)"
   ]
  },
  {
   "cell_type": "code",
   "execution_count": null,
   "metadata": {},
   "outputs": [],
   "source": []
  }
 ],
 "metadata": {
  "kernelspec": {
   "display_name": "base",
   "language": "python",
   "name": "python3"
  },
  "language_info": {
   "codemirror_mode": {
    "name": "ipython",
    "version": 3
   },
   "file_extension": ".py",
   "mimetype": "text/x-python",
   "name": "python",
   "nbconvert_exporter": "python",
   "pygments_lexer": "ipython3",
   "version": "3.11.3"
  }
 },
 "nbformat": 4,
 "nbformat_minor": 2
}
