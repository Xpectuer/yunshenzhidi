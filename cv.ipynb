{
 "cells": [
  {
   "cell_type": "code",
   "execution_count": 54,
   "metadata": {},
   "outputs": [],
   "source": [
    "import cv2\n",
    "import numpy as np\n",
    "from PIL import Image\n",
    "from solvers.consts import *\n",
    "\n",
    "\n",
    "# import pytesseract\n",
    "import os \n",
    "\n",
    "\n",
    "def showImg(mat):\n",
    "    rgbMAT = cv2.cvtColor(mat, cv2.COLOR_BGR2RGB)\n",
    "\n",
    "    return Image.fromarray(rgbMAT)\n",
    "\n",
    "def showMultipleImg(mats):\n",
    "    from matplotlib import pyplot as plt\n",
    "    def inner(x):\n",
    "        x1 = cv2.cvtColor(x, cv2.COLOR_BGR2RGB)\n",
    "        return Image.fromarray(x1) \n",
    "    \n",
    "    l = list(map(inner, mats))\n",
    "    for p in l:\n",
    "        plt.figure()\n",
    "        plt.imshow(p)\n",
    "    "
   ]
  },
  {
   "cell_type": "code",
   "execution_count": 55,
   "metadata": {},
   "outputs": [
    {
     "data": {
      "image/jpeg": "[encoded data removed]",
      "image/png": "[encoded data removed]",
      "text/plain": [
       "<PIL.Image.Image image mode=RGB size=51x97>"
      ]
     },
     "execution_count": 55,
     "metadata": {},
     "output_type": "execute_result"
    }
   ],
   "source": [
    "\n",
    "# cv recog coloured blocks\n",
    "target_color = ['blue', 'pink', 'grey','orange', 'purple', 'green']\n",
    "# 调色盘\n",
    "color_dist = {'red': {'Lower': np.array([0, 60, 60]), 'Upper': np.array([6, 255, 255])},\n",
    "              'blue': {'Lower': np.array([200, 0, 0]), 'Upper': np.array([255, 120, 100])},\n",
    "              'pink': {'Lower': np.array([200, 110, 230]), 'Upper': np.array([251, 155, 255])},\n",
    "              'grey': {'Lower': np.array([150, 150, 150]), 'Upper': np.array([155, 155, 155])},\n",
    "              'orange': {'Lower': np.array([0, 126, 253]), 'Upper': np.array([5, 170, 255])},\n",
    "              'purple': {'Lower': np.array([230, 0, 130]), 'Upper': np.array([255, 5, 215])},\n",
    "              'green': {'Lower': np.array([0 , 128   ,0]), 'Upper': np.array([100, 255, 100])},\n",
    "              'black': {'Lower': np.array([252, 252, 252]), 'Upper': np.array([255,255,255])},\n",
    "              }\n",
    "\n",
    "# path = 'imgs/card_14.png'\n",
    "path = 'testout_0.png'\n",
    "img = cv2.imread(path)\n",
    "showImg(img)"
   ]
  },
  {
   "cell_type": "code",
   "execution_count": 56,
   "metadata": {},
   "outputs": [],
   "source": [
    "color2terrain = {\n",
    "    \"purple\" : HERMITS,\n",
    "    \"green\": FOREST,\n",
    "    \"orange\": PLAINS,\n",
    "    \"blue\": RIVER,\n",
    "    \"pink\": VILLIAGE,\n",
    "    \"grey\": ROAD,\n",
    "}\n",
    "text2terrain = {\n",
    "    '隐者': HERMITS,\n",
    "    '森林': FOREST,\n",
    "    '道路': ROAD,\n",
    "    '河流': RIVER,\n",
    "    '村庄': VILLIAGE,\n",
    "    '平原': PLAINS,\n",
    "}\n",
    "\n",
    "text2clue = {\n",
    "    '隐士': CLUE_HERMIT,\n",
    "    '飞鸟': CLUE_BIRD,\n",
    "    '树灵': CLUE_DRYAD,\n",
    "    '极目': CLUE_OVERLOOK\n",
    "} "
   ]
  },
  {
   "cell_type": "code",
   "execution_count": 57,
   "metadata": {},
   "outputs": [
    {
     "name": "stdout",
     "output_type": "stream",
     "text": [
      "[2024/03/16 23:39:33] ppocr DEBUG: Namespace(help='==SUPPRESS==', use_gpu=False, use_xpu=False, use_npu=False, ir_optim=True, use_tensorrt=False, min_subgraph_size=15, precision='fp32', gpu_mem=500, gpu_id=0, image_dir=None, page_num=0, det_algorithm='DB', det_model_dir='/home/zhengjy/.paddleocr/whl/det/ch/ch_PP-OCRv4_det_infer', det_limit_side_len=960, det_limit_type='max', det_box_type='quad', det_db_thresh=0.3, det_db_box_thresh=0.6, det_db_unclip_ratio=1.5, max_batch_size=10, use_dilation=False, det_db_score_mode='fast', det_east_score_thresh=0.8, det_east_cover_thresh=0.1, det_east_nms_thresh=0.2, det_sast_score_thresh=0.5, det_sast_nms_thresh=0.2, det_pse_thresh=0, det_pse_box_thresh=0.85, det_pse_min_area=16, det_pse_scale=1, scales=[8, 16, 32], alpha=1.0, beta=1.0, fourier_degree=5, rec_algorithm='SVTR_LCNet', rec_model_dir='/home/zhengjy/.paddleocr/whl/rec/ch/ch_PP-OCRv4_rec_infer', rec_image_inverse=True, rec_image_shape='3, 48, 320', rec_batch_num=6, max_text_length=25, rec_char_dict_path='/home/zhengjy/anaconda3/envs/paddle/lib/python3.10/site-packages/paddleocr/ppocr/utils/ppocr_keys_v1.txt', use_space_char=True, vis_font_path='./doc/fonts/simfang.ttf', drop_score=0.5, e2e_algorithm='PGNet', e2e_model_dir=None, e2e_limit_side_len=768, e2e_limit_type='max', e2e_pgnet_score_thresh=0.5, e2e_char_dict_path='./ppocr/utils/ic15_dict.txt', e2e_pgnet_valid_set='totaltext', e2e_pgnet_mode='fast', use_angle_cls=True, cls_model_dir='/home/zhengjy/.paddleocr/whl/cls/ch_ppocr_mobile_v2.0_cls_infer', cls_image_shape='3, 48, 192', label_list=['0', '180'], cls_batch_num=6, cls_thresh=0.9, enable_mkldnn=False, cpu_threads=10, use_pdserving=False, warmup=False, sr_model_dir=None, sr_image_shape='3, 32, 128', sr_batch_num=1, draw_img_save_dir='./inference_results', save_crop_res=False, crop_res_save_dir='./output', use_mp=False, total_process_num=1, process_id=0, benchmark=False, save_log_path='./log_output/', show_log=True, use_onnx=False, output='./output', table_max_len=488, table_algorithm='TableAttn', table_model_dir=None, merge_no_span_structure=True, table_char_dict_path=None, layout_model_dir=None, layout_dict_path=None, layout_score_threshold=0.5, layout_nms_threshold=0.5, kie_algorithm='LayoutXLM', ser_model_dir=None, re_model_dir=None, use_visual_backbone=True, ser_dict_path='../train_data/XFUND/class_list_xfun.txt', ocr_order_method=None, mode='structure', image_orientation=False, layout=True, table=True, ocr=True, recovery=False, use_pdf2docx_api=False, invert=False, binarize=False, alphacolor=(255, 255, 255), lang='ch', det=True, rec=True, type='ocr', ocr_version='PP-OCRv4', structure_version='PP-StructureV2')\n"
     ]
    },
    {
     "name": "stdout",
     "output_type": "stream",
     "text": [
      "[2024/03/16 23:39:34] ppocr DEBUG: dt_boxes num : 1, elapsed : 0.014218330383300781\n",
      "[2024/03/16 23:39:34] ppocr DEBUG: cls num  : 1, elapsed : 0.0170896053314209\n",
      "[2024/03/16 23:39:34] ppocr DEBUG: rec_res num  : 1, elapsed : 0.03563737869262695\n",
      "['3']\n",
      "-1\n"
     ]
    }
   ],
   "source": [
    "from paddleocr import PaddleOCR\n",
    "\n",
    "# Paddleocr目前支持的多语言语种可以通过修改lang参数进行切换\n",
    "# 例如`ch`, `en`, `fr`, `german`, `korean`, `japan`\n",
    "\n",
    "def ocr(img_path = './imgs/card_0.png'):\n",
    "    ocr = PaddleOCR(use_angle_cls=True, lang=\"ch\")  # need to run only once to download and load model into memory\n",
    "\n",
    "    result = ocr.ocr(img_path, cls=True)\n",
    "    texts = []\n",
    "    for idx in range(len(result)):\n",
    "        res = result[idx]\n",
    "        for line in res:\n",
    "            text = line[1][0]\n",
    "            # print(\"line:\", line[1][0])\n",
    "            texts.append(text)\n",
    "    return texts\n",
    "\n",
    "texts = ocr(path)\n",
    "print(texts)\n",
    "clueType = -1\n",
    "for txt in texts:\n",
    "    if txt in text2clue.keys():\n",
    "        clueType = text2clue[txt]\n",
    "    \n",
    "print(clueType)\n"
   ]
  },
  {
   "cell_type": "code",
   "execution_count": 58,
   "metadata": {},
   "outputs": [
    {
     "data": {
      "image/jpeg": "[encoded data removed]",
      "image/png": "[encoded data removed]",
      "text/plain": [
       "<PIL.Image.Image image mode=RGB size=51x97>"
      ]
     },
     "execution_count": 58,
     "metadata": {},
     "output_type": "execute_result"
    }
   ],
   "source": [
    "# preprocessing\n",
    "kernel = cv2.getStructuringElement(cv2.MORPH_RECT, (3,3))\n",
    "# 高斯模糊\n",
    "# afterGsB = cv2.GaussianBlur(img, (3,3), 0)\n",
    "afterGsB = img\n",
    "\n",
    "# afterDilate = cv2.dilate(afterGsB, kernel, iterations=3)\n",
    "afterDilate = afterGsB\n",
    "afterErode = cv2.erode(afterDilate, kernel, iterations=2)\n",
    "# afterErode = afterDilate\n",
    "# afterGsB = img\n",
    "showImg(afterErode)"
   ]
  },
  {
   "cell_type": "code",
   "execution_count": 59,
   "metadata": {},
   "outputs": [
    {
     "data": {
      "image/jpeg": "[encoded data removed]",
      "image/png": "[encoded data removed]",
      "text/plain": [
       "<PIL.Image.Image image mode=RGB size=51x97>"
      ]
     },
     "execution_count": 59,
     "metadata": {},
     "output_type": "execute_result"
    }
   ],
   "source": [
    "gray = cv2.cvtColor(img, cv2.COLOR_BGR2GRAY)\n",
    "showImg(gray)"
   ]
  },
  {
   "cell_type": "code",
   "execution_count": 60,
   "metadata": {},
   "outputs": [
    {
     "data": {
      "image/jpeg": "[encoded data removed]",
      "image/png": "[encoded data removed]",
      "text/plain": [
       "<PIL.Image.Image image mode=RGB size=51x97>"
      ]
     },
     "execution_count": 60,
     "metadata": {},
     "output_type": "execute_result"
    }
   ],
   "source": [
    "_, thresh = cv2.threshold(gray, 254, 255, cv2.THRESH_BINARY_INV)\n",
    "showImg(thresh)"
   ]
  },
  {
   "cell_type": "code",
   "execution_count": 61,
   "metadata": {},
   "outputs": [
    {
     "data": {
      "image/jpeg": "[encoded data removed]",
      "image/png": "[encoded data removed]",
      "text/plain": [
       "<PIL.Image.Image image mode=RGB size=51x97>"
      ]
     },
     "execution_count": 61,
     "metadata": {},
     "output_type": "execute_result"
    }
   ],
   "source": [
    "kernel = cv2.getStructuringElement(cv2.MORPH_RECT, (5, 5))\n",
    "dilate = cv2.dilate(thresh, kernel, iterations=2)\n",
    "erode = cv2.erode(dilate, kernel, iterations=4)\n",
    "\n",
    "showImg(erode)"
   ]
  },
  {
   "cell_type": "code",
   "execution_count": 62,
   "metadata": {},
   "outputs": [],
   "source": [
    "# contours, _ = cv2.findContours(erode, cv2.RETR_EXTERNAL, cv2.CHAIN_APPROX_SIMPLE)\n",
    "# rois = []\n",
    "# for cont in contours:\n",
    "#     x, y, w, h = cv2.boundingRect(cont)\n",
    "#     # region of interest\n",
    "#     roi = gray[y:y+h, x: x+w]\n",
    "#     rois.append(roi)\n",
    "    \n",
    "\n",
    "# # showImg(rois[1])\n",
    "# showMultipleImg(rois)"
   ]
  },
  {
   "cell_type": "code",
   "execution_count": 63,
   "metadata": {},
   "outputs": [],
   "source": [
    "# for roi in rois:\n",
    "#     text = pytesseract.image_to_string(roi, lang='chi_sim')\n",
    "#     print(text)\n"
   ]
  },
  {
   "cell_type": "code",
   "execution_count": 64,
   "metadata": {},
   "outputs": [],
   "source": [
    "# 色调（H），饱和度（S），明度（V）\n",
    "# afterHSV = cv2.cvtColor(afterGsB, cv2.COLOR_BGR2HSV)\n",
    "# showImg(afterHSV)\n"
   ]
  },
  {
   "cell_type": "code",
   "execution_count": 65,
   "metadata": {},
   "outputs": [],
   "source": [
    "# 粗线条的变细\n",
    "# afterErode = cv2.erode(afterHSV, None, iterations = 2)\n",
    "# showImg(afterErode)"
   ]
  },
  {
   "cell_type": "code",
   "execution_count": 66,
   "metadata": {},
   "outputs": [
    {
     "data": {
      "image/png": "[encoded data removed]",
      "text/plain": [
       "<Figure size 640x480 with 1 Axes>"
      ]
     },
     "metadata": {},
     "output_type": "display_data"
    },
    {
     "data": {
      "image/png": "[encoded data removed]",
      "text/plain": [
       "<Figure size 640x480 with 1 Axes>"
      ]
     },
     "metadata": {},
     "output_type": "display_data"
    },
    {
     "data": {
      "image/png": "[encoded data removed]",
      "text/plain": [
       "<Figure size 640x480 with 1 Axes>"
      ]
     },
     "metadata": {},
     "output_type": "display_data"
    },
    {
     "data": {
      "image/png": "[encoded data removed]",
      "text/plain": [
       "<Figure size 640x480 with 1 Axes>"
      ]
     },
     "metadata": {},
     "output_type": "display_data"
    },
    {
     "data": {
      "image/png": "[encoded data removed]",
      "text/plain": [
       "<Figure size 640x480 with 1 Axes>"
      ]
     },
     "metadata": {},
     "output_type": "display_data"
    },
    {
     "data": {
      "image/png": "[encoded data removed]",
      "text/plain": [
       "<Figure size 640x480 with 1 Axes>"
      ]
     },
     "metadata": {},
     "output_type": "display_data"
    }
   ],
   "source": [
    "masks = []\n",
    "colors = []\n",
    "for color in target_color:\n",
    "    mask = cv2.inRange(img, color_dist[color]['Lower'], color_dist[color]['Upper'])\n",
    "    masks.append(mask)\n",
    "    colors.append(color)\n",
    "\n",
    "showMultipleImg(masks)"
   ]
  },
  {
   "cell_type": "code",
   "execution_count": 67,
   "metadata": {},
   "outputs": [
    {
     "name": "stdout",
     "output_type": "stream",
     "text": [
      "(5, 51, 43, 43)\n",
      "(5, 4, 43, 43)\n",
      "[(5, 51), (5, 4)]\n"
     ]
    }
   ],
   "source": [
    "EPSILON = 5\n",
    "roi_masks = []\n",
    "for mask in masks:\n",
    "     \n",
    "    contours, _ = cv2.findContours(mask, \n",
    "                                    cv2.RETR_EXTERNAL, \n",
    "                                    cv2.CHAIN_APPROX_SIMPLE)\n",
    "    \n",
    "    rois = []\n",
    "    for cont in contours:\n",
    "        x, y, w, h = cv2.boundingRect(cont)\n",
    "        # add region of interest\n",
    "        m = (x, y, w, h)\n",
    "        if(w > EPSILON and h > EPSILON):\n",
    "            print(m)\n",
    "            rois.append(m)\n",
    "        \n",
    "    roi_masks.extend(rois)\n",
    "\n",
    "coors = list(map(lambda roi: (roi[0], roi[1]), roi_masks))\n",
    "\n",
    "\n",
    "print(coors)"
   ]
  },
  {
   "cell_type": "code",
   "execution_count": 68,
   "metadata": {},
   "outputs": [
    {
     "name": "stdout",
     "output_type": "stream",
     "text": [
      "[5, 5] [51, 4]\n"
     ]
    },
    {
     "data": {
      "text/plain": [
       "[(1, 0), (0, 0)]"
      ]
     },
     "execution_count": 68,
     "metadata": {},
     "output_type": "execute_result"
    }
   ],
   "source": [
    "raw = roi_masks\n",
    "\n",
    "def unify(raw:list[tuple])->list[tuple]:\n",
    "    xcoors = list(map(lambda roi: roi[0], raw))\n",
    "    ycoors = list(map(lambda roi: roi[1], raw))\n",
    "    \n",
    "    def denoise(x):\n",
    "        xcoors = [_ for _ in x]\n",
    "        for i, c1 in enumerate(xcoors):\n",
    "            for j in range(i, len(xcoors)):\n",
    "                c2 = xcoors[j]\n",
    "                if abs(c1 - c2) < EPSILON:\n",
    "                    m = min(c1, c2)\n",
    "                    xcoors[i] = m\n",
    "                    xcoors[j] = m\n",
    "        return xcoors\n",
    "\n",
    "    xcoors = denoise(xcoors)\n",
    "    ycoors = denoise(ycoors)\n",
    "    print(xcoors, ycoors)\n",
    "    def snd_min(A):\n",
    "        Ap = sorted(set(A))\n",
    "        return Ap[1] if len(Ap) > 1 else Ap[0]\n",
    "\n",
    "\n",
    "    def unify_inner(A):\n",
    "        sndm = snd_min(A)\n",
    "        m = min(A)\n",
    "        # print(sndm,m)\n",
    "        \n",
    "        # !!! divided by zero\n",
    "        \n",
    "        offst = 1 if sndm - m == 0 else sndm - m\n",
    "        return list(map(lambda x: (x - m) // offst, A))\n",
    "        \n",
    "    # print(xcoors)\n",
    "    r = list(zip(unify_inner(ycoors), unify_inner(xcoors)))\n",
    "\n",
    "    return r\n",
    "\n",
    "unify(raw=raw)"
   ]
  },
  {
   "cell_type": "code",
   "execution_count": 69,
   "metadata": {},
   "outputs": [],
   "source": [
    "import cv2\n",
    "\n",
    "def crop_image(img, crop_percentage):\n",
    "    height, width, _ = img.shape\n",
    "\n",
    "    left = int(width * crop_percentage / 100)\n",
    "    top = int(height * crop_percentage / 100)\n",
    "    right = int(width * (1 - crop_percentage / 100))\n",
    "    bottom = int(height * (1 - crop_percentage / 100))\n",
    "\n",
    "    cropped_img = img[top:bottom, left:right]\n",
    "\n",
    "    return cropped_img\n"
   ]
  },
  {
   "cell_type": "code",
   "execution_count": 76,
   "metadata": {},
   "outputs": [
    {
     "data": {
      "image/jpeg": "[encoded data removed]",
      "image/png": "[encoded data removed]",
      "text/plain": [
       "<PIL.Image.Image image mode=RGB size=167x227>"
      ]
     },
     "execution_count": 76,
     "metadata": {},
     "output_type": "execute_result"
    }
   ],
   "source": [
    "import cv2\n",
    "import numpy as np\n",
    "\n",
    "def preprocess(img):\n",
    "    img_gray = cv2.cvtColor(img, cv2.COLOR_BGR2GRAY)\n",
    "    img_blur = cv2.GaussianBlur(img_gray, (5, 5), 1)\n",
    "    img_canny = cv2.Canny(img_blur, 50, 50)\n",
    "    kernel = np.ones((3, 3))\n",
    "    img_dilate = cv2.dilate(img_canny, kernel, iterations=2)\n",
    "    img_erode = cv2.erode(img_dilate, kernel, iterations=1)\n",
    "    return img_erode\n",
    "\n",
    "def find_tip(points, convex_hull):\n",
    "    length = len(points)\n",
    "    indices = np.setdiff1d(range(length), convex_hull)\n",
    "\n",
    "    for i in range(2):\n",
    "        j = indices[i] + 2\n",
    "        if j > length - 1:\n",
    "            j = length - j\n",
    "        if np.all(points[j] == points[indices[i - 1] - 2]):\n",
    "            return tuple(points[j])\n",
    "\n",
    "img = cv2.imread(\"imgs/card_18.png\")\n",
    "\n",
    "contours, hierarchy = cv2.findContours(preprocess(img), cv2.RETR_EXTERNAL, cv2.CHAIN_APPROX_NONE)\n",
    "\n",
    "for cnt in contours:\n",
    "    peri = cv2.arcLength(cnt, True)\n",
    "    approx = cv2.approxPolyDP(cnt, 0.025 * peri, True)\n",
    "    hull = cv2.convexHull(approx, returnPoints=False)\n",
    "    sides = len(hull)\n",
    "\n",
    "    if sides > 3 and sides + 2 == len(approx):    \n",
    "        arrow_tip = find_tip(approx[:,0,:], hull.squeeze())\n",
    "        if arrow_tip:\n",
    "            cv2.drawContours(img, [cnt], -1, (0, 255, 0), 3)\n",
    "            cv2.circle(img, arrow_tip, 3, (0, 0, 255), cv2.FILLED)\n"
   ]
  },
  {
   "cell_type": "code",
   "execution_count": 75,
   "metadata": {},
   "outputs": [
    {
     "name": "stdout",
     "output_type": "stream",
     "text": [
      "93 23\n",
      "80 18\n",
      "53 100\n",
      "65 15\n",
      "106 23\n",
      "163 223\n",
      "69 35\n",
      "DOWN\n"
     ]
    },
    {
     "data": {
      "image/jpeg": "[encoded data removed]",
      "image/png": "[encoded data removed]",
      "text/plain": [
       "<PIL.Image.Image image mode=RGB size=167x227>"
      ]
     },
     "execution_count": 75,
     "metadata": {},
     "output_type": "execute_result"
    }
   ],
   "source": [
    "img = cv2.imread('imgs/card_18.png')\n",
    "# img = cv2.GaussianBlur(img, (11,11), 0)\n",
    "gray = cv2.cvtColor(img,cv2.COLOR_BGR2GRAY)\n",
    "corners = cv2.goodFeaturesToTrack(gray,7,0.01,10)\n",
    "corners = np.int0(corners)\n",
    "\n",
    "ct='a'\n",
    "for i in corners:\n",
    "    x,y = i.ravel()\n",
    "    print(x,y)\n",
    "    cv2.circle(img,(x,y),3,(255,255,0),-1)\n",
    "    cv2.putText(img, ct, (x,y), cv2.FONT_HERSHEY_SIMPLEX, 0.8, (0,0,255), 2, cv2.LINE_AA )\n",
    "    ct=ct+'a'\n",
    "\n",
    "xmax, ymax = (np.max(corners, axis = 0)).ravel()\n",
    "xmin, ymin = (np.min(corners, axis = 0)).ravel() \n",
    "\n",
    "   \n",
    "if( abs(xmax-xmin) > abs(ymax-ymin)):\n",
    "    if(np.count_nonzero(corners[:,0,0] == xmax) == 2):\n",
    "        print('LEFT')\n",
    "    else:\n",
    "        print('RIGHT')\n",
    "else:\n",
    "    if(np.count_nonzero(corners[:,0,1] == ymax) == 2):\n",
    "        print('UP')\n",
    "    else:\n",
    "        print('DOWN')   \n",
    "\n",
    "showImg(gray)"
   ]
  }
 ],
 "metadata": {
  "kernelspec": {
   "display_name": "base",
   "language": "python",
   "name": "python3"
  },
  "language_info": {
   "codemirror_mode": {
    "name": "ipython",
    "version": 3
   },
   "file_extension": ".py",
   "mimetype": "text/x-python",
   "name": "python",
   "nbconvert_exporter": "python",
   "pygments_lexer": "ipython3",
   "version": "3.11.3"
  }
 },
 "nbformat": 4,
 "nbformat_minor": 2
}
